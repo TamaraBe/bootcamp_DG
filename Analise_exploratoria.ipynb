{
  "cells": [
    {
      "cell_type": "markdown",
      "metadata": {
        "id": "view-in-github",
        "colab_type": "text"
      },
      "source": [
        "<a href=\"https://colab.research.google.com/github/TamaraBe/bootcamp_DG/blob/main/Analise_exploratoria.ipynb\" target=\"_parent\"><img src=\"https://colab.research.google.com/assets/colab-badge.svg\" alt=\"Open In Colab\"/></a>"
      ]
    },
    {
      "cell_type": "markdown",
      "id": "6dca99a7-1790-47f5-8b37-71cf31b04d41",
      "metadata": {
        "id": "6dca99a7-1790-47f5-8b37-71cf31b04d41"
      },
      "source": [
        "# Contexto"
      ]
    },
    {
      "cell_type": "markdown",
      "id": "d4c97a7c-5957-49ad-bffe-e9a7f06070c4",
      "metadata": {
        "id": "d4c97a7c-5957-49ad-bffe-e9a7f06070c4"
      },
      "source": [
        "A EducaTech é uma startup de educação digital que oferece cursos online na área de negócios.\n",
        "Fundada há seis meses, a empresa tem como missão democratizar o acesso ao conhecimento de qualidade por meio de plataformas acessíveis e interativas.\n",
        "Apesar do pouco tempo de operação, a empresa já alcançou todos os estados do Brasil, com centenas de alunos ativos que representam a totalidade da base\n",
        "de usuários até o momento.\n",
        "A equipe multidisciplinar composta por profissionais de produto, dados e pedagogia está empenhada em compreender como o engajamento dos alunos influencia\n",
        "o desempenho final nos cursos, com o objetivo de melhorar a experiência educacional e aumentar a taxa de conclusão dos cursos.\n",
        "\n",
        "Para essa base de dados, a empresa utilizou os dados coletados diretamente da sua plataforma de ensino.\n",
        "Cada vez que um aluno acessa o sistema, suas interações são registradas em tempo real e elas foram coletadas no dia 31 de maio de 2025.\n",
        "Além disso, algumas informações do cadastro do cliente foram acrescentadas para analisar possíveis perfis."
      ]
    },
    {
      "cell_type": "markdown",
      "id": "e281e6ef-da57-45c6-8226-c6a1afa908d1",
      "metadata": {
        "id": "e281e6ef-da57-45c6-8226-c6a1afa908d1"
      },
      "source": [
        "# Objetivo:"
      ]
    },
    {
      "cell_type": "markdown",
      "id": "6d9bca82-7767-456a-aec2-83a8728f86bb",
      "metadata": {
        "id": "6d9bca82-7767-456a-aec2-83a8728f86bb"
      },
      "source": [
        " - Analise dataset (estrutura)\n",
        " - Análise Univariada e Bivariada"
      ]
    },
    {
      "cell_type": "markdown",
      "id": "183c5668-e46a-487b-b302-a71ed2017f5b",
      "metadata": {
        "id": "183c5668-e46a-487b-b302-a71ed2017f5b"
      },
      "source": [
        "# 1. Importar bibliotecas"
      ]
    },
    {
      "cell_type": "code",
      "execution_count": 36,
      "id": "93e346c7-dd6d-4c72-a178-e9564ca6cfc1",
      "metadata": {
        "id": "93e346c7-dd6d-4c72-a178-e9564ca6cfc1"
      },
      "outputs": [],
      "source": [
        "import pandas as pd\n",
        "import numpy as np\n",
        "\n",
        "import seaborn as sns\n",
        "import matplotlib.pyplot as plt\n",
        "\n",
        "plt.style.use('ggplot')\n",
        "%matplotlib inline"
      ]
    },
    {
      "cell_type": "markdown",
      "id": "59d89a2b-f372-409f-a026-621e81607177",
      "metadata": {
        "id": "59d89a2b-f372-409f-a026-621e81607177"
      },
      "source": [
        "# 2. Carregando Dataset"
      ]
    },
    {
      "cell_type": "code",
      "source": [
        "dados_alunos = [\n",
        "    {\n",
        "        \"ID_Aluno\": \"A0001\",\n",
        "        \"Ultimo_acesso\": \"2025-04-06\",\n",
        "        \"Ano_mes_ultimo_acesso\": \"2025/04\",\n",
        "        \"Ano_ultimo_acesso\": 2025,\n",
        "        \"Tempo_Sessao_Minutos\": 42.31,\n",
        "        \"Numero_Modulos_Completos\": 3,\n",
        "        \"Nota_Final_Curso\": 96.0,\n",
        "        \"Tipo_Plano\": \"Premium\",\n",
        "        \"Regiao_Aluno\": \"Sudeste\",\n",
        "        \"Nivel_Interesse_Conteudo\": 1,\n",
        "        \"Frequencia_Acessos_Semanal\": 7,\n",
        "        \"Dispositivo_Acesso\": \"Desktop\"\n",
        "    },\n",
        "    {\n",
        "        \"ID_Aluno\": \"A0002\",\n",
        "        \"Ultimo_acesso\": \"2025-02-28\",\n",
        "        \"Ano_mes_ultimo_acesso\": \"2025/02\",\n",
        "        \"Ano_ultimo_acesso\": 2025,\n",
        "        \"Tempo_Sessao_Minutos\": 50.01,\n",
        "        \"Numero_Modulos_Completos\": 8,\n",
        "        \"Nota_Final_Curso\": 76.1,\n",
        "        \"Tipo_Plano\": \"Básico\",\n",
        "        \"Regiao_Aluno\": \"Norte\",\n",
        "        \"Nivel_Interesse_Conteudo\": 5,\n",
        "        \"Frequencia_Acessos_Semanal\": 7,\n",
        "        \"Dispositivo_Acesso\": \"Mobile\"\n",
        "    },\n",
        "    {\n",
        "        \"ID_Aluno\": \"A0003\",\n",
        "        \"Ultimo_acesso\": \"2025-02-28\",\n",
        "        \"Ano_mes_ultimo_acesso\": \"2025/02\",\n",
        "        \"Ano_ultimo_acesso\": 2025,\n",
        "        \"Tempo_Sessao_Minutos\": 35.22,\n",
        "        \"Numero_Modulos_Completos\": 7,\n",
        "        \"Nota_Final_Curso\": 40.9,\n",
        "        \"Tipo_Plano\": \"Básico\",\n",
        "        \"Regiao_Aluno\": \"Nordeste\",\n",
        "        \"Nivel_Interesse_Conteudo\": 4,\n",
        "        \"Frequencia_Acessos_Semanal\": 3,\n",
        "        \"Dispositivo_Acesso\": \"Desktop\"\n",
        "    },\n",
        "    {\n",
        "        \"ID_Aluno\": \"A0004\",\n",
        "        \"Ultimo_acesso\": \"2025-02-17\",\n",
        "        \"Ano_mes_ultimo_acesso\": \"2025/02\",\n",
        "        \"Ano_ultimo_acesso\": 2025,\n",
        "        \"Tempo_Sessao_Minutos\": 45.99,\n",
        "        \"Numero_Modulos_Completos\": 6,\n",
        "        \"Nota_Final_Curso\": 72.2,\n",
        "        \"Tipo_Plano\": \"Gratuito\",\n",
        "        \"Regiao_Aluno\": \"Nordeste\",\n",
        "        \"Nivel_Interesse_Conteudo\": 5,\n",
        "        \"Frequencia_Acessos_Semanal\": 7,\n",
        "        \"Dispositivo_Acesso\": \"Mobile\"\n",
        "    },\n",
        "    {\n",
        "        \"ID_Aluno\": \"A0005\",\n",
        "        \"Ultimo_acesso\": \"2025-04-09\",\n",
        "        \"Ano_mes_ultimo_acesso\": \"2025/04\",\n",
        "        \"Ano_ultimo_acesso\": 2025,\n",
        "        \"Tempo_Sessao_Minutos\": 52.51,\n",
        "        \"Numero_Modulos_Completos\": 8,\n",
        "        \"Nota_Final_Curso\": 82.0,\n",
        "        \"Tipo_Plano\": \"Premium\",\n",
        "        \"Regiao_Aluno\": \"Sudeste\",\n",
        "        \"Nivel_Interesse_Conteudo\": 3,\n",
        "        \"Frequencia_Acessos_Semanal\": 7,\n",
        "        \"Dispositivo_Acesso\": \"Desktop\"\n",
        "    }\n",
        "]\n",
        "\n",
        "print(dados_alunos)"
      ],
      "metadata": {
        "colab": {
          "base_uri": "https://localhost:8080/"
        },
        "id": "a5h3rJC_WBA6",
        "outputId": "0974a699-7b9e-4eb7-d900-ab919abeb32f"
      },
      "id": "a5h3rJC_WBA6",
      "execution_count": 37,
      "outputs": [
        {
          "output_type": "stream",
          "name": "stdout",
          "text": [
            "[{'ID_Aluno': 'A0001', 'Ultimo_acesso': '2025-04-06', 'Ano_mes_ultimo_acesso': '2025/04', 'Ano_ultimo_acesso': 2025, 'Tempo_Sessao_Minutos': 42.31, 'Numero_Modulos_Completos': 3, 'Nota_Final_Curso': 96.0, 'Tipo_Plano': 'Premium', 'Regiao_Aluno': 'Sudeste', 'Nivel_Interesse_Conteudo': 1, 'Frequencia_Acessos_Semanal': 7, 'Dispositivo_Acesso': 'Desktop'}, {'ID_Aluno': 'A0002', 'Ultimo_acesso': '2025-02-28', 'Ano_mes_ultimo_acesso': '2025/02', 'Ano_ultimo_acesso': 2025, 'Tempo_Sessao_Minutos': 50.01, 'Numero_Modulos_Completos': 8, 'Nota_Final_Curso': 76.1, 'Tipo_Plano': 'Básico', 'Regiao_Aluno': 'Norte', 'Nivel_Interesse_Conteudo': 5, 'Frequencia_Acessos_Semanal': 7, 'Dispositivo_Acesso': 'Mobile'}, {'ID_Aluno': 'A0003', 'Ultimo_acesso': '2025-02-28', 'Ano_mes_ultimo_acesso': '2025/02', 'Ano_ultimo_acesso': 2025, 'Tempo_Sessao_Minutos': 35.22, 'Numero_Modulos_Completos': 7, 'Nota_Final_Curso': 40.9, 'Tipo_Plano': 'Básico', 'Regiao_Aluno': 'Nordeste', 'Nivel_Interesse_Conteudo': 4, 'Frequencia_Acessos_Semanal': 3, 'Dispositivo_Acesso': 'Desktop'}, {'ID_Aluno': 'A0004', 'Ultimo_acesso': '2025-02-17', 'Ano_mes_ultimo_acesso': '2025/02', 'Ano_ultimo_acesso': 2025, 'Tempo_Sessao_Minutos': 45.99, 'Numero_Modulos_Completos': 6, 'Nota_Final_Curso': 72.2, 'Tipo_Plano': 'Gratuito', 'Regiao_Aluno': 'Nordeste', 'Nivel_Interesse_Conteudo': 5, 'Frequencia_Acessos_Semanal': 7, 'Dispositivo_Acesso': 'Mobile'}, {'ID_Aluno': 'A0005', 'Ultimo_acesso': '2025-04-09', 'Ano_mes_ultimo_acesso': '2025/04', 'Ano_ultimo_acesso': 2025, 'Tempo_Sessao_Minutos': 52.51, 'Numero_Modulos_Completos': 8, 'Nota_Final_Curso': 82.0, 'Tipo_Plano': 'Premium', 'Regiao_Aluno': 'Sudeste', 'Nivel_Interesse_Conteudo': 3, 'Frequencia_Acessos_Semanal': 7, 'Dispositivo_Acesso': 'Desktop'}]\n"
          ]
        }
      ]
    },
    {
      "cell_type": "markdown",
      "id": "101c88bb-dd98-40d4-9b57-fce66eb9606e",
      "metadata": {
        "id": "101c88bb-dd98-40d4-9b57-fce66eb9606e"
      },
      "source": [
        "**- Visualizar as primeiras linhas e verificar informações sobre a estrutura do dataset**   \n",
        "*Transformei os nomes das colunas em letra minuscula*"
      ]
    },
    {
      "cell_type": "code",
      "execution_count": 38,
      "id": "fccce931-b54b-4b64-82f6-90e2737045b6",
      "metadata": {
        "scrolled": true,
        "id": "fccce931-b54b-4b64-82f6-90e2737045b6",
        "colab": {
          "base_uri": "https://localhost:8080/",
          "height": 226
        },
        "outputId": "4e2af4ed-50bc-41ba-c238-899ea9b1b1d4"
      },
      "outputs": [
        {
          "output_type": "execute_result",
          "data": {
            "text/plain": [
              "   index id_aluno ultimo_acesso ano_mes_ultimo_acesso  ano_ultimo_acesso  \\\n",
              "0      0    A0001    2025-04-06               2025/04               2025   \n",
              "1      1    A0002    2025-02-28               2025/02               2025   \n",
              "2      2    A0003    2025-02-28               2025/02               2025   \n",
              "3      3    A0004    2025-02-17               2025/02               2025   \n",
              "4      4    A0005    2025-04-09               2025/04               2025   \n",
              "\n",
              "   tempo_sessao_minutos  numero_modulos_completos  nota_final_curso  \\\n",
              "0                 42.31                         3              96.0   \n",
              "1                 50.01                         8              76.1   \n",
              "2                 35.22                         7              40.9   \n",
              "3                 45.99                         6              72.2   \n",
              "4                 52.51                         8              82.0   \n",
              "\n",
              "  tipo_plano regiao_aluno  nivel_interesse_conteudo  \\\n",
              "0    Premium      Sudeste                         1   \n",
              "1     Básico        Norte                         5   \n",
              "2     Básico     Nordeste                         4   \n",
              "3   Gratuito     Nordeste                         5   \n",
              "4    Premium      Sudeste                         3   \n",
              "\n",
              "   frequencia_acessos_semanal dispositivo_acesso  \n",
              "0                           7            Desktop  \n",
              "1                           7             Mobile  \n",
              "2                           3            Desktop  \n",
              "3                           7             Mobile  \n",
              "4                           7            Desktop  "
            ],
            "text/html": [
              "\n",
              "  <div id=\"df-aa3ee494-57e6-4b28-b11b-4ec890a52943\" class=\"colab-df-container\">\n",
              "    <div>\n",
              "<style scoped>\n",
              "    .dataframe tbody tr th:only-of-type {\n",
              "        vertical-align: middle;\n",
              "    }\n",
              "\n",
              "    .dataframe tbody tr th {\n",
              "        vertical-align: top;\n",
              "    }\n",
              "\n",
              "    .dataframe thead th {\n",
              "        text-align: right;\n",
              "    }\n",
              "</style>\n",
              "<table border=\"1\" class=\"dataframe\">\n",
              "  <thead>\n",
              "    <tr style=\"text-align: right;\">\n",
              "      <th></th>\n",
              "      <th>index</th>\n",
              "      <th>id_aluno</th>\n",
              "      <th>ultimo_acesso</th>\n",
              "      <th>ano_mes_ultimo_acesso</th>\n",
              "      <th>ano_ultimo_acesso</th>\n",
              "      <th>tempo_sessao_minutos</th>\n",
              "      <th>numero_modulos_completos</th>\n",
              "      <th>nota_final_curso</th>\n",
              "      <th>tipo_plano</th>\n",
              "      <th>regiao_aluno</th>\n",
              "      <th>nivel_interesse_conteudo</th>\n",
              "      <th>frequencia_acessos_semanal</th>\n",
              "      <th>dispositivo_acesso</th>\n",
              "    </tr>\n",
              "  </thead>\n",
              "  <tbody>\n",
              "    <tr>\n",
              "      <th>0</th>\n",
              "      <td>0</td>\n",
              "      <td>A0001</td>\n",
              "      <td>2025-04-06</td>\n",
              "      <td>2025/04</td>\n",
              "      <td>2025</td>\n",
              "      <td>42.31</td>\n",
              "      <td>3</td>\n",
              "      <td>96.0</td>\n",
              "      <td>Premium</td>\n",
              "      <td>Sudeste</td>\n",
              "      <td>1</td>\n",
              "      <td>7</td>\n",
              "      <td>Desktop</td>\n",
              "    </tr>\n",
              "    <tr>\n",
              "      <th>1</th>\n",
              "      <td>1</td>\n",
              "      <td>A0002</td>\n",
              "      <td>2025-02-28</td>\n",
              "      <td>2025/02</td>\n",
              "      <td>2025</td>\n",
              "      <td>50.01</td>\n",
              "      <td>8</td>\n",
              "      <td>76.1</td>\n",
              "      <td>Básico</td>\n",
              "      <td>Norte</td>\n",
              "      <td>5</td>\n",
              "      <td>7</td>\n",
              "      <td>Mobile</td>\n",
              "    </tr>\n",
              "    <tr>\n",
              "      <th>2</th>\n",
              "      <td>2</td>\n",
              "      <td>A0003</td>\n",
              "      <td>2025-02-28</td>\n",
              "      <td>2025/02</td>\n",
              "      <td>2025</td>\n",
              "      <td>35.22</td>\n",
              "      <td>7</td>\n",
              "      <td>40.9</td>\n",
              "      <td>Básico</td>\n",
              "      <td>Nordeste</td>\n",
              "      <td>4</td>\n",
              "      <td>3</td>\n",
              "      <td>Desktop</td>\n",
              "    </tr>\n",
              "    <tr>\n",
              "      <th>3</th>\n",
              "      <td>3</td>\n",
              "      <td>A0004</td>\n",
              "      <td>2025-02-17</td>\n",
              "      <td>2025/02</td>\n",
              "      <td>2025</td>\n",
              "      <td>45.99</td>\n",
              "      <td>6</td>\n",
              "      <td>72.2</td>\n",
              "      <td>Gratuito</td>\n",
              "      <td>Nordeste</td>\n",
              "      <td>5</td>\n",
              "      <td>7</td>\n",
              "      <td>Mobile</td>\n",
              "    </tr>\n",
              "    <tr>\n",
              "      <th>4</th>\n",
              "      <td>4</td>\n",
              "      <td>A0005</td>\n",
              "      <td>2025-04-09</td>\n",
              "      <td>2025/04</td>\n",
              "      <td>2025</td>\n",
              "      <td>52.51</td>\n",
              "      <td>8</td>\n",
              "      <td>82.0</td>\n",
              "      <td>Premium</td>\n",
              "      <td>Sudeste</td>\n",
              "      <td>3</td>\n",
              "      <td>7</td>\n",
              "      <td>Desktop</td>\n",
              "    </tr>\n",
              "  </tbody>\n",
              "</table>\n",
              "</div>\n",
              "    <div class=\"colab-df-buttons\">\n",
              "\n",
              "  <div class=\"colab-df-container\">\n",
              "    <button class=\"colab-df-convert\" onclick=\"convertToInteractive('df-aa3ee494-57e6-4b28-b11b-4ec890a52943')\"\n",
              "            title=\"Convert this dataframe to an interactive table.\"\n",
              "            style=\"display:none;\">\n",
              "\n",
              "  <svg xmlns=\"http://www.w3.org/2000/svg\" height=\"24px\" viewBox=\"0 -960 960 960\">\n",
              "    <path d=\"M120-120v-720h720v720H120Zm60-500h600v-160H180v160Zm220 220h160v-160H400v160Zm0 220h160v-160H400v160ZM180-400h160v-160H180v160Zm440 0h160v-160H620v160ZM180-180h160v-160H180v160Zm440 0h160v-160H620v160Z\"/>\n",
              "  </svg>\n",
              "    </button>\n",
              "\n",
              "  <style>\n",
              "    .colab-df-container {\n",
              "      display:flex;\n",
              "      gap: 12px;\n",
              "    }\n",
              "\n",
              "    .colab-df-convert {\n",
              "      background-color: #E8F0FE;\n",
              "      border: none;\n",
              "      border-radius: 50%;\n",
              "      cursor: pointer;\n",
              "      display: none;\n",
              "      fill: #1967D2;\n",
              "      height: 32px;\n",
              "      padding: 0 0 0 0;\n",
              "      width: 32px;\n",
              "    }\n",
              "\n",
              "    .colab-df-convert:hover {\n",
              "      background-color: #E2EBFA;\n",
              "      box-shadow: 0px 1px 2px rgba(60, 64, 67, 0.3), 0px 1px 3px 1px rgba(60, 64, 67, 0.15);\n",
              "      fill: #174EA6;\n",
              "    }\n",
              "\n",
              "    .colab-df-buttons div {\n",
              "      margin-bottom: 4px;\n",
              "    }\n",
              "\n",
              "    [theme=dark] .colab-df-convert {\n",
              "      background-color: #3B4455;\n",
              "      fill: #D2E3FC;\n",
              "    }\n",
              "\n",
              "    [theme=dark] .colab-df-convert:hover {\n",
              "      background-color: #434B5C;\n",
              "      box-shadow: 0px 1px 3px 1px rgba(0, 0, 0, 0.15);\n",
              "      filter: drop-shadow(0px 1px 2px rgba(0, 0, 0, 0.3));\n",
              "      fill: #FFFFFF;\n",
              "    }\n",
              "  </style>\n",
              "\n",
              "    <script>\n",
              "      const buttonEl =\n",
              "        document.querySelector('#df-aa3ee494-57e6-4b28-b11b-4ec890a52943 button.colab-df-convert');\n",
              "      buttonEl.style.display =\n",
              "        google.colab.kernel.accessAllowed ? 'block' : 'none';\n",
              "\n",
              "      async function convertToInteractive(key) {\n",
              "        const element = document.querySelector('#df-aa3ee494-57e6-4b28-b11b-4ec890a52943');\n",
              "        const dataTable =\n",
              "          await google.colab.kernel.invokeFunction('convertToInteractive',\n",
              "                                                    [key], {});\n",
              "        if (!dataTable) return;\n",
              "\n",
              "        const docLinkHtml = 'Like what you see? Visit the ' +\n",
              "          '<a target=\"_blank\" href=https://colab.research.google.com/notebooks/data_table.ipynb>data table notebook</a>'\n",
              "          + ' to learn more about interactive tables.';\n",
              "        element.innerHTML = '';\n",
              "        dataTable['output_type'] = 'display_data';\n",
              "        await google.colab.output.renderOutput(dataTable, element);\n",
              "        const docLink = document.createElement('div');\n",
              "        docLink.innerHTML = docLinkHtml;\n",
              "        element.appendChild(docLink);\n",
              "      }\n",
              "    </script>\n",
              "  </div>\n",
              "\n",
              "\n",
              "    <div id=\"df-59774411-04c9-4a56-8f1a-5eaa86eaff67\">\n",
              "      <button class=\"colab-df-quickchart\" onclick=\"quickchart('df-59774411-04c9-4a56-8f1a-5eaa86eaff67')\"\n",
              "                title=\"Suggest charts\"\n",
              "                style=\"display:none;\">\n",
              "\n",
              "<svg xmlns=\"http://www.w3.org/2000/svg\" height=\"24px\"viewBox=\"0 0 24 24\"\n",
              "     width=\"24px\">\n",
              "    <g>\n",
              "        <path d=\"M19 3H5c-1.1 0-2 .9-2 2v14c0 1.1.9 2 2 2h14c1.1 0 2-.9 2-2V5c0-1.1-.9-2-2-2zM9 17H7v-7h2v7zm4 0h-2V7h2v10zm4 0h-2v-4h2v4z\"/>\n",
              "    </g>\n",
              "</svg>\n",
              "      </button>\n",
              "\n",
              "<style>\n",
              "  .colab-df-quickchart {\n",
              "      --bg-color: #E8F0FE;\n",
              "      --fill-color: #1967D2;\n",
              "      --hover-bg-color: #E2EBFA;\n",
              "      --hover-fill-color: #174EA6;\n",
              "      --disabled-fill-color: #AAA;\n",
              "      --disabled-bg-color: #DDD;\n",
              "  }\n",
              "\n",
              "  [theme=dark] .colab-df-quickchart {\n",
              "      --bg-color: #3B4455;\n",
              "      --fill-color: #D2E3FC;\n",
              "      --hover-bg-color: #434B5C;\n",
              "      --hover-fill-color: #FFFFFF;\n",
              "      --disabled-bg-color: #3B4455;\n",
              "      --disabled-fill-color: #666;\n",
              "  }\n",
              "\n",
              "  .colab-df-quickchart {\n",
              "    background-color: var(--bg-color);\n",
              "    border: none;\n",
              "    border-radius: 50%;\n",
              "    cursor: pointer;\n",
              "    display: none;\n",
              "    fill: var(--fill-color);\n",
              "    height: 32px;\n",
              "    padding: 0;\n",
              "    width: 32px;\n",
              "  }\n",
              "\n",
              "  .colab-df-quickchart:hover {\n",
              "    background-color: var(--hover-bg-color);\n",
              "    box-shadow: 0 1px 2px rgba(60, 64, 67, 0.3), 0 1px 3px 1px rgba(60, 64, 67, 0.15);\n",
              "    fill: var(--button-hover-fill-color);\n",
              "  }\n",
              "\n",
              "  .colab-df-quickchart-complete:disabled,\n",
              "  .colab-df-quickchart-complete:disabled:hover {\n",
              "    background-color: var(--disabled-bg-color);\n",
              "    fill: var(--disabled-fill-color);\n",
              "    box-shadow: none;\n",
              "  }\n",
              "\n",
              "  .colab-df-spinner {\n",
              "    border: 2px solid var(--fill-color);\n",
              "    border-color: transparent;\n",
              "    border-bottom-color: var(--fill-color);\n",
              "    animation:\n",
              "      spin 1s steps(1) infinite;\n",
              "  }\n",
              "\n",
              "  @keyframes spin {\n",
              "    0% {\n",
              "      border-color: transparent;\n",
              "      border-bottom-color: var(--fill-color);\n",
              "      border-left-color: var(--fill-color);\n",
              "    }\n",
              "    20% {\n",
              "      border-color: transparent;\n",
              "      border-left-color: var(--fill-color);\n",
              "      border-top-color: var(--fill-color);\n",
              "    }\n",
              "    30% {\n",
              "      border-color: transparent;\n",
              "      border-left-color: var(--fill-color);\n",
              "      border-top-color: var(--fill-color);\n",
              "      border-right-color: var(--fill-color);\n",
              "    }\n",
              "    40% {\n",
              "      border-color: transparent;\n",
              "      border-right-color: var(--fill-color);\n",
              "      border-top-color: var(--fill-color);\n",
              "    }\n",
              "    60% {\n",
              "      border-color: transparent;\n",
              "      border-right-color: var(--fill-color);\n",
              "    }\n",
              "    80% {\n",
              "      border-color: transparent;\n",
              "      border-right-color: var(--fill-color);\n",
              "      border-bottom-color: var(--fill-color);\n",
              "    }\n",
              "    90% {\n",
              "      border-color: transparent;\n",
              "      border-bottom-color: var(--fill-color);\n",
              "    }\n",
              "  }\n",
              "</style>\n",
              "\n",
              "      <script>\n",
              "        async function quickchart(key) {\n",
              "          const quickchartButtonEl =\n",
              "            document.querySelector('#' + key + ' button');\n",
              "          quickchartButtonEl.disabled = true;  // To prevent multiple clicks.\n",
              "          quickchartButtonEl.classList.add('colab-df-spinner');\n",
              "          try {\n",
              "            const charts = await google.colab.kernel.invokeFunction(\n",
              "                'suggestCharts', [key], {});\n",
              "          } catch (error) {\n",
              "            console.error('Error during call to suggestCharts:', error);\n",
              "          }\n",
              "          quickchartButtonEl.classList.remove('colab-df-spinner');\n",
              "          quickchartButtonEl.classList.add('colab-df-quickchart-complete');\n",
              "        }\n",
              "        (() => {\n",
              "          let quickchartButtonEl =\n",
              "            document.querySelector('#df-59774411-04c9-4a56-8f1a-5eaa86eaff67 button');\n",
              "          quickchartButtonEl.style.display =\n",
              "            google.colab.kernel.accessAllowed ? 'block' : 'none';\n",
              "        })();\n",
              "      </script>\n",
              "    </div>\n",
              "\n",
              "    </div>\n",
              "  </div>\n"
            ],
            "application/vnd.google.colaboratory.intrinsic+json": {
              "type": "dataframe",
              "variable_name": "alunos",
              "summary": "{\n  \"name\": \"alunos\",\n  \"rows\": 125,\n  \"fields\": [\n    {\n      \"column\": \"index\",\n      \"properties\": {\n        \"dtype\": \"number\",\n        \"std\": 36,\n        \"min\": 0,\n        \"max\": 124,\n        \"num_unique_values\": 125,\n        \"samples\": [\n          18,\n          42,\n          36\n        ],\n        \"semantic_type\": \"\",\n        \"description\": \"\"\n      }\n    },\n    {\n      \"column\": \"id_aluno\",\n      \"properties\": {\n        \"dtype\": \"string\",\n        \"num_unique_values\": 125,\n        \"samples\": [\n          \"A0019\",\n          \"A0043\",\n          \"A0037\"\n        ],\n        \"semantic_type\": \"\",\n        \"description\": \"\"\n      }\n    },\n    {\n      \"column\": \"ultimo_acesso\",\n      \"properties\": {\n        \"dtype\": \"date\",\n        \"min\": \"2025-01-01 00:00:00\",\n        \"max\": \"2025-05-29 00:00:00\",\n        \"num_unique_values\": 81,\n        \"samples\": [\n          \"2025-04-11 00:00:00\",\n          \"2025-04-06 00:00:00\",\n          \"2025-01-02 00:00:00\"\n        ],\n        \"semantic_type\": \"\",\n        \"description\": \"\"\n      }\n    },\n    {\n      \"column\": \"ano_mes_ultimo_acesso\",\n      \"properties\": {\n        \"dtype\": \"object\",\n        \"num_unique_values\": 5,\n        \"samples\": [\n          \"2025/02\",\n          \"2025/05\",\n          \"2025/01\"\n        ],\n        \"semantic_type\": \"\",\n        \"description\": \"\"\n      }\n    },\n    {\n      \"column\": \"ano_ultimo_acesso\",\n      \"properties\": {\n        \"dtype\": \"number\",\n        \"std\": 0,\n        \"min\": 2025,\n        \"max\": 2025,\n        \"num_unique_values\": 1,\n        \"samples\": [\n          2025\n        ],\n        \"semantic_type\": \"\",\n        \"description\": \"\"\n      }\n    },\n    {\n      \"column\": \"tempo_sessao_minutos\",\n      \"properties\": {\n        \"dtype\": \"number\",\n        \"std\": 9.952405883228245,\n        \"min\": 20.28,\n        \"max\": 69.46,\n        \"num_unique_values\": 124,\n        \"samples\": [\n          32.89\n        ],\n        \"semantic_type\": \"\",\n        \"description\": \"\"\n      }\n    },\n    {\n      \"column\": \"numero_modulos_completos\",\n      \"properties\": {\n        \"dtype\": \"number\",\n        \"std\": 1,\n        \"min\": 1,\n        \"max\": 10,\n        \"num_unique_values\": 10,\n        \"samples\": [\n          9\n        ],\n        \"semantic_type\": \"\",\n        \"description\": \"\"\n      }\n    },\n    {\n      \"column\": \"nota_final_curso\",\n      \"properties\": {\n        \"dtype\": \"number\",\n        \"std\": 15.061286069407094,\n        \"min\": 39.7,\n        \"max\": 100.0,\n        \"num_unique_values\": 114,\n        \"samples\": [\n          71.0\n        ],\n        \"semantic_type\": \"\",\n        \"description\": \"\"\n      }\n    },\n    {\n      \"column\": \"tipo_plano\",\n      \"properties\": {\n        \"dtype\": \"category\",\n        \"num_unique_values\": 3,\n        \"samples\": [\n          \"Premium\"\n        ],\n        \"semantic_type\": \"\",\n        \"description\": \"\"\n      }\n    },\n    {\n      \"column\": \"regiao_aluno\",\n      \"properties\": {\n        \"dtype\": \"category\",\n        \"num_unique_values\": 5,\n        \"samples\": [\n          \"Norte\"\n        ],\n        \"semantic_type\": \"\",\n        \"description\": \"\"\n      }\n    },\n    {\n      \"column\": \"nivel_interesse_conteudo\",\n      \"properties\": {\n        \"dtype\": \"number\",\n        \"std\": 1,\n        \"min\": 1,\n        \"max\": 5,\n        \"num_unique_values\": 5,\n        \"samples\": [\n          5\n        ],\n        \"semantic_type\": \"\",\n        \"description\": \"\"\n      }\n    },\n    {\n      \"column\": \"frequencia_acessos_semanal\",\n      \"properties\": {\n        \"dtype\": \"number\",\n        \"std\": 1,\n        \"min\": 1,\n        \"max\": 7,\n        \"num_unique_values\": 7,\n        \"samples\": [\n          7\n        ],\n        \"semantic_type\": \"\",\n        \"description\": \"\"\n      }\n    },\n    {\n      \"column\": \"dispositivo_acesso\",\n      \"properties\": {\n        \"dtype\": \"category\",\n        \"num_unique_values\": 3,\n        \"samples\": [\n          \"Desktop\"\n        ],\n        \"semantic_type\": \"\",\n        \"description\": \"\"\n      }\n    }\n  ]\n}"
            }
          },
          "metadata": {},
          "execution_count": 38
        }
      ],
      "source": [
        "alunos.head()"
      ]
    },
    {
      "cell_type": "code",
      "execution_count": 39,
      "id": "10bba14b-bb0e-41e0-88bd-3a8bd76f365d",
      "metadata": {
        "id": "10bba14b-bb0e-41e0-88bd-3a8bd76f365d"
      },
      "outputs": [],
      "source": [
        "alunos.columns = alunos.columns.str.lower()"
      ]
    },
    {
      "cell_type": "code",
      "execution_count": 40,
      "id": "399f4b1f-c279-4b13-b34d-fc28ff086db7",
      "metadata": {
        "id": "399f4b1f-c279-4b13-b34d-fc28ff086db7",
        "colab": {
          "base_uri": "https://localhost:8080/"
        },
        "outputId": "3ef6b66e-6b2f-4705-803d-681f8a7ac624"
      },
      "outputs": [
        {
          "output_type": "stream",
          "name": "stdout",
          "text": [
            "<class 'pandas.core.frame.DataFrame'>\n",
            "RangeIndex: 125 entries, 0 to 124\n",
            "Data columns (total 13 columns):\n",
            " #   Column                      Non-Null Count  Dtype         \n",
            "---  ------                      --------------  -----         \n",
            " 0   index                       125 non-null    int64         \n",
            " 1   id_aluno                    125 non-null    object        \n",
            " 2   ultimo_acesso               125 non-null    datetime64[ns]\n",
            " 3   ano_mes_ultimo_acesso       125 non-null    object        \n",
            " 4   ano_ultimo_acesso           125 non-null    int64         \n",
            " 5   tempo_sessao_minutos        125 non-null    float64       \n",
            " 6   numero_modulos_completos    125 non-null    int64         \n",
            " 7   nota_final_curso            125 non-null    float64       \n",
            " 8   tipo_plano                  125 non-null    object        \n",
            " 9   regiao_aluno                125 non-null    object        \n",
            " 10  nivel_interesse_conteudo    125 non-null    int64         \n",
            " 11  frequencia_acessos_semanal  125 non-null    int64         \n",
            " 12  dispositivo_acesso          125 non-null    object        \n",
            "dtypes: datetime64[ns](1), float64(2), int64(5), object(5)\n",
            "memory usage: 12.8+ KB\n"
          ]
        }
      ],
      "source": [
        "alunos.info()"
      ]
    },
    {
      "cell_type": "markdown",
      "id": "624232b9-afdf-4a73-be18-cd33466e140c",
      "metadata": {
        "id": "624232b9-afdf-4a73-be18-cd33466e140c"
      },
      "source": [
        "# 3. Análise Univariada"
      ]
    },
    {
      "cell_type": "markdown",
      "id": "bac78977-062b-4b7b-96cd-5b62b95861cd",
      "metadata": {
        "id": "bac78977-062b-4b7b-96cd-5b62b95861cd"
      },
      "source": [
        "- Variáveis quantitativas discretas"
      ]
    },
    {
      "cell_type": "code",
      "execution_count": 41,
      "id": "4ac6b607-9444-4572-a7cc-e4e156dd3264",
      "metadata": {
        "id": "4ac6b607-9444-4572-a7cc-e4e156dd3264",
        "colab": {
          "base_uri": "https://localhost:8080/",
          "height": 454
        },
        "outputId": "12e2ffcd-893b-435f-b14c-2f1713e340e9"
      },
      "outputs": [
        {
          "output_type": "display_data",
          "data": {
            "text/plain": [
              "<Figure size 640x480 with 1 Axes>"
            ],
            "image/png": "[encoded data removed]"
          },
          "metadata": {}
        }
      ],
      "source": [
        "_ = plt.hist(alunos.numero_modulos_completos)\n",
        "_ = plt.title(\"Histograma de Módulos Completos\")"
      ]
    },
    {
      "cell_type": "code",
      "execution_count": 42,
      "id": "d06afa31-7bc5-48d0-ae38-a60ca972662c",
      "metadata": {
        "id": "d06afa31-7bc5-48d0-ae38-a60ca972662c",
        "colab": {
          "base_uri": "https://localhost:8080/",
          "height": 454
        },
        "outputId": "1d364c08-d278-449e-d527-0fad210d2dec"
      },
      "outputs": [
        {
          "output_type": "display_data",
          "data": {
            "text/plain": [
              "<Figure size 640x480 with 1 Axes>"
            ],
            "image/png": "[encoded data removed]"
          },
          "metadata": {}
        }
      ],
      "source": [
        "frequencia = alunos.frequencia_acessos_semanal.value_counts()\n",
        "\n",
        "_ = plt.bar(frequencia.index, frequencia.values)\n",
        "_ = plt.title(\"Gráfico de Frequência de Acesso Semanal\")\n"
      ]
    },
    {
      "cell_type": "code",
      "execution_count": 43,
      "id": "ce4aa702-aa67-411e-ab86-06afb3afb21c",
      "metadata": {
        "id": "ce4aa702-aa67-411e-ab86-06afb3afb21c",
        "colab": {
          "base_uri": "https://localhost:8080/"
        },
        "outputId": "33df07cf-848e-4905-cf4c-ecc9604b76d2"
      },
      "outputs": [
        {
          "output_type": "stream",
          "name": "stdout",
          "text": [
            "frequencia_acessos_semanal\n",
            "4    32\n",
            "5    27\n",
            "3    25\n",
            "7    18\n",
            "6    12\n",
            "2     8\n",
            "1     3\n",
            "Name: count, dtype: int64\n",
            " Média de Frequência de Acesso Semanal: 4.44\n",
            " Mediana de Frequência de Acesso Semanal: 4.0\n",
            " Quartil 25%:  3.0 (25% da base acessou até 3.0 vezes na semana)\n",
            " Quartil 50%:  4.0 (50% da base acessou até 4.0 vezes na semana)\n",
            " Quartil 75%:  4.0 (75% da base acessou até 5.0 vezes na semana)\n"
          ]
        }
      ],
      "source": [
        "media_freq = alunos.frequencia_acessos_semanal.mean()\n",
        "mediana_freq = alunos.frequencia_acessos_semanal.median()\n",
        "quartil1 = alunos.frequencia_acessos_semanal.quantile(0.25)\n",
        "quartil2 = alunos.frequencia_acessos_semanal.quantile(0.50)\n",
        "quartil3 = alunos.frequencia_acessos_semanal.quantile(0.75)\n",
        "\n",
        "contagem = alunos.frequencia_acessos_semanal.value_counts()\n",
        "soma = contagem.sum()\n",
        "print(contagem)\n",
        "\n",
        "\n",
        "print(f\" Média de Frequência de Acesso Semanal: {media_freq}\")\n",
        "print(f\" Mediana de Frequência de Acesso Semanal: {mediana_freq}\")\n",
        "print(f\" Quartil 25%:  {quartil1} (25% da base acessou até {quartil1} vezes na semana)\")\n",
        "print(f\" Quartil 50%:  {quartil2} (50% da base acessou até {quartil2} vezes na semana)\")\n",
        "print(f\" Quartil 75%:  {quartil2} (75% da base acessou até {quartil3} vezes na semana)\")"
      ]
    },
    {
      "cell_type": "markdown",
      "id": "65f2d245-80fd-4cb9-a434-25b9579c8727",
      "metadata": {
        "id": "65f2d245-80fd-4cb9-a434-25b9579c8727"
      },
      "source": [
        "- Variáveis Quantitativas Contínuas"
      ]
    },
    {
      "cell_type": "code",
      "execution_count": 44,
      "id": "8f40ceed-bae2-4a87-b438-7faaafb92dae",
      "metadata": {
        "id": "8f40ceed-bae2-4a87-b438-7faaafb92dae",
        "colab": {
          "base_uri": "https://localhost:8080/",
          "height": 453
        },
        "outputId": "5463925a-3e0d-4bed-e6db-2a3c87614583"
      },
      "outputs": [
        {
          "output_type": "display_data",
          "data": {
            "text/plain": [
              "<Figure size 640x480 with 1 Axes>"
            ],
            "image/png": "[encoded data removed]"
          },
          "metadata": {}
        }
      ],
      "source": [
        "_ = plt.hist(alunos.tempo_sessao_minutos)\n",
        "_ = plt.title(\"Histograma de Tempo de Sessão em minutos\")"
      ]
    },
    {
      "cell_type": "markdown",
      "id": "cf0e71ea-9e99-4ef7-8cd6-c7306056d5f0",
      "metadata": {
        "id": "cf0e71ea-9e99-4ef7-8cd6-c7306056d5f0"
      },
      "source": [
        "- Variáveis Qualitativas Nominais"
      ]
    },
    {
      "cell_type": "code",
      "execution_count": 45,
      "id": "70be772f-9a9b-432e-9b68-4df2159484a5",
      "metadata": {
        "id": "70be772f-9a9b-432e-9b68-4df2159484a5",
        "colab": {
          "base_uri": "https://localhost:8080/"
        },
        "outputId": "db531daa-a268-4824-8db0-5f80db4648e4"
      },
      "outputs": [
        {
          "output_type": "stream",
          "name": "stdout",
          "text": [
            "Dispositivo de Acesso  Contagem\n",
            "               Mobile        59\n",
            "              Desktop        50\n",
            "               Tablet        16\n"
          ]
        }
      ],
      "source": [
        "df_contagem = (\n",
        "    alunos['dispositivo_acesso']\n",
        "    .value_counts()\n",
        "    .rename_axis('Dispositivo de Acesso')    # passa o nome ao índice\n",
        "                # transforma em DataFrame com coluna “Contagem”\n",
        "    .reset_index(name='Contagem')\n",
        ")\n",
        "print(df_contagem.to_string(index=False))"
      ]
    },
    {
      "cell_type": "code",
      "execution_count": 46,
      "id": "00b6cf26-21e2-4eb7-b7cc-e02da62319ab",
      "metadata": {
        "id": "00b6cf26-21e2-4eb7-b7cc-e02da62319ab",
        "colab": {
          "base_uri": "https://localhost:8080/",
          "height": 272
        },
        "outputId": "3bfc3d32-6866-4aef-9829-55344e593f07"
      },
      "outputs": [
        {
          "output_type": "execute_result",
          "data": {
            "text/plain": [
              "regiao_aluno\n",
              "Sudeste         0.480\n",
              "Nordeste        0.272\n",
              "Sul             0.160\n",
              "Centro-Oeste    0.048\n",
              "Norte           0.040\n",
              "Name: proportion, dtype: float64"
            ],
            "text/html": [
              "<div>\n",
              "<style scoped>\n",
              "    .dataframe tbody tr th:only-of-type {\n",
              "        vertical-align: middle;\n",
              "    }\n",
              "\n",
              "    .dataframe tbody tr th {\n",
              "        vertical-align: top;\n",
              "    }\n",
              "\n",
              "    .dataframe thead th {\n",
              "        text-align: right;\n",
              "    }\n",
              "</style>\n",
              "<table border=\"1\" class=\"dataframe\">\n",
              "  <thead>\n",
              "    <tr style=\"text-align: right;\">\n",
              "      <th></th>\n",
              "      <th>proportion</th>\n",
              "    </tr>\n",
              "    <tr>\n",
              "      <th>regiao_aluno</th>\n",
              "      <th></th>\n",
              "    </tr>\n",
              "  </thead>\n",
              "  <tbody>\n",
              "    <tr>\n",
              "      <th>Sudeste</th>\n",
              "      <td>0.480</td>\n",
              "    </tr>\n",
              "    <tr>\n",
              "      <th>Nordeste</th>\n",
              "      <td>0.272</td>\n",
              "    </tr>\n",
              "    <tr>\n",
              "      <th>Sul</th>\n",
              "      <td>0.160</td>\n",
              "    </tr>\n",
              "    <tr>\n",
              "      <th>Centro-Oeste</th>\n",
              "      <td>0.048</td>\n",
              "    </tr>\n",
              "    <tr>\n",
              "      <th>Norte</th>\n",
              "      <td>0.040</td>\n",
              "    </tr>\n",
              "  </tbody>\n",
              "</table>\n",
              "</div><br><label><b>dtype:</b> float64</label>"
            ]
          },
          "metadata": {},
          "execution_count": 46
        }
      ],
      "source": [
        "alunos.regiao_aluno.value_counts(1)"
      ]
    },
    {
      "cell_type": "code",
      "execution_count": 47,
      "id": "a8322676-7e31-48cb-a60f-003e1178af7c",
      "metadata": {
        "id": "a8322676-7e31-48cb-a60f-003e1178af7c",
        "colab": {
          "base_uri": "https://localhost:8080/"
        },
        "outputId": "14ecef81-7c40-4b26-a179-dab9e6686b0c"
      },
      "outputs": [
        {
          "output_type": "stream",
          "name": "stdout",
          "text": [
            "Tipo de Planos  Contagem\n",
            "      Gratuito        53\n",
            "       Premium        36\n",
            "        Básico        36\n"
          ]
        }
      ],
      "source": [
        "df_tipoplano = (\n",
        "    alunos['tipo_plano']\n",
        "    .value_counts()\n",
        "    .rename_axis('Tipo de Planos')\n",
        "    .reset_index(name='Contagem')\n",
        ")\n",
        "print(df_tipoplano.to_string(index=False))"
      ]
    },
    {
      "cell_type": "markdown",
      "id": "f79b2cad-d45a-4bf6-ba26-8b1439b42ef7",
      "metadata": {
        "id": "f79b2cad-d45a-4bf6-ba26-8b1439b42ef7"
      },
      "source": [
        "# 4. Análise Bivariada"
      ]
    },
    {
      "cell_type": "code",
      "execution_count": 48,
      "id": "73520a91-5bf1-42b1-911d-8b1d8689dc83",
      "metadata": {
        "id": "73520a91-5bf1-42b1-911d-8b1d8689dc83",
        "colab": {
          "base_uri": "https://localhost:8080/",
          "height": 454
        },
        "outputId": "72a2231b-0ce4-4f6e-f6a1-cab0e7d14d0c"
      },
      "outputs": [
        {
          "output_type": "display_data",
          "data": {
            "text/plain": [
              "<Figure size 640x480 with 1 Axes>"
            ],
            "image/png": "[encoded data removed]"
          },
          "metadata": {}
        }
      ],
      "source": [
        "_ = sns.boxplot(x='tipo_plano',y='dispositivo_acesso', data=alunos)\n"
      ]
    },
    {
      "cell_type": "markdown",
      "id": "2a5b6424-3fe3-4996-8e14-c6784cddaca8",
      "metadata": {
        "id": "2a5b6424-3fe3-4996-8e14-c6784cddaca8"
      },
      "source": [
        "https://www.youtube.com/watch?v=9n9bFWWBkLg"
      ]
    }
  ],
  "metadata": {
    "kernelspec": {
      "display_name": "Python 3 (ipykernel)",
      "language": "python",
      "name": "python3"
    },
    "language_info": {
      "codemirror_mode": {
        "name": "ipython",
        "version": 3
      },
      "file_extension": ".py",
      "mimetype": "text/x-python",
      "name": "python",
      "nbconvert_exporter": "python",
      "pygments_lexer": "ipython3",
      "version": "3.12.7"
    },
    "colab": {
      "provenance": [],
      "include_colab_link": true
    }
  },
  "nbformat": 4,
  "nbformat_minor": 5
}