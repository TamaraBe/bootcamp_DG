{
  "cells": [
    {
      "cell_type": "markdown",
      "metadata": {
        "id": "view-in-github",
        "colab_type": "text"
      },
      "source": [
        "<a href=\"https://colab.research.google.com/github/TamaraBe/bootcamp_DG/blob/main/Analise_exploratoria.ipynb\" target=\"_parent\"><img src=\"https://colab.research.google.com/assets/colab-badge.svg\" alt=\"Open In Colab\"/></a>"
      ]
    },
    {
      "cell_type": "markdown",
      "id": "6dca99a7-1790-47f5-8b37-71cf31b04d41",
      "metadata": {
        "id": "6dca99a7-1790-47f5-8b37-71cf31b04d41"
      },
      "source": [
        "# Contexto"
      ]
    },
    {
      "cell_type": "markdown",
      "id": "d4c97a7c-5957-49ad-bffe-e9a7f06070c4",
      "metadata": {
        "id": "d4c97a7c-5957-49ad-bffe-e9a7f06070c4"
      },
      "source": [
        "A EducaTech é uma startup de educação digital que oferece cursos online na área de negócios.\n",
        "Fundada há seis meses, a empresa tem como missão democratizar o acesso ao conhecimento de qualidade por meio de plataformas acessíveis e interativas.\n",
        "Apesar do pouco tempo de operação, a empresa já alcançou todos os estados do Brasil, com centenas de alunos ativos que representam a totalidade da base\n",
        "de usuários até o momento.\n",
        "A equipe multidisciplinar composta por profissionais de produto, dados e pedagogia está empenhada em compreender como o engajamento dos alunos influencia\n",
        "o desempenho final nos cursos, com o objetivo de melhorar a experiência educacional e aumentar a taxa de conclusão dos cursos.\n",
        "\n",
        "Para essa base de dados, a empresa utilizou os dados coletados diretamente da sua plataforma de ensino.\n",
        "Cada vez que um aluno acessa o sistema, suas interações são registradas em tempo real e elas foram coletadas no dia 31 de maio de 2025.\n",
        "Além disso, algumas informações do cadastro do cliente foram acrescentadas para analisar possíveis perfis."
      ]
    },
    {
      "cell_type": "markdown",
      "id": "e281e6ef-da57-45c6-8226-c6a1afa908d1",
      "metadata": {
        "id": "e281e6ef-da57-45c6-8226-c6a1afa908d1"
      },
      "source": [
        "# Objetivo:"
      ]
    },
    {
      "cell_type": "markdown",
      "id": "6d9bca82-7767-456a-aec2-83a8728f86bb",
      "metadata": {
        "id": "6d9bca82-7767-456a-aec2-83a8728f86bb"
      },
      "source": [
        " - Analise dataset (estrutura)\n",
        " - Análise Univariada e Bivariada"
      ]
    },
    {
      "cell_type": "markdown",
      "id": "183c5668-e46a-487b-b302-a71ed2017f5b",
      "metadata": {
        "id": "183c5668-e46a-487b-b302-a71ed2017f5b"
      },
      "source": [
        "# 1. Importar bibliotecas"
      ]
    },
    {
      "cell_type": "code",
      "execution_count": null,
      "id": "93e346c7-dd6d-4c72-a178-e9564ca6cfc1",
      "metadata": {
        "id": "93e346c7-dd6d-4c72-a178-e9564ca6cfc1"
      },
      "outputs": [],
      "source": [
        "import pandas as pd\n",
        "import numpy as np\n",
        "\n",
        "import seaborn as sns\n",
        "import matplotlib.pyplot as plt\n",
        "\n",
        "plt.style.use('ggplot')"
      ]
    },
    {
      "cell_type": "markdown",
      "id": "59d89a2b-f372-409f-a026-621e81607177",
      "metadata": {
        "id": "59d89a2b-f372-409f-a026-621e81607177"
      },
      "source": [
        "# 2. Carregando Dataset"
      ]
    },
    {
      "cell_type": "code",
      "execution_count": null,
      "id": "3c9993a6-989e-4987-94c1-398d5172c553",
      "metadata": {
        "id": "3c9993a6-989e-4987-94c1-398d5172c553"
      },
      "outputs": [],
      "source": [
        "alunos = pd.read_excel('tabela_educatech.xlsx')"
      ]
    },
    {
      "cell_type": "markdown",
      "id": "101c88bb-dd98-40d4-9b57-fce66eb9606e",
      "metadata": {
        "id": "101c88bb-dd98-40d4-9b57-fce66eb9606e"
      },
      "source": [
        "**- Visualizar as primeiras linhas e verificar informações sobre a estrutura do dataset**   \n",
        "*Transformei os nomes das colunas em letra minuscula*"
      ]
    },
    {
      "cell_type": "code",
      "execution_count": null,
      "id": "fccce931-b54b-4b64-82f6-90e2737045b6",
      "metadata": {
        "scrolled": true,
        "id": "fccce931-b54b-4b64-82f6-90e2737045b6"
      },
      "outputs": [],
      "source": [
        "alunos.head()"
      ]
    },
    {
      "cell_type": "code",
      "execution_count": null,
      "id": "10bba14b-bb0e-41e0-88bd-3a8bd76f365d",
      "metadata": {
        "id": "10bba14b-bb0e-41e0-88bd-3a8bd76f365d"
      },
      "outputs": [],
      "source": [
        "alunos.columns = alunos.columns.str.lower()"
      ]
    },
    {
      "cell_type": "code",
      "execution_count": null,
      "id": "399f4b1f-c279-4b13-b34d-fc28ff086db7",
      "metadata": {
        "id": "399f4b1f-c279-4b13-b34d-fc28ff086db7"
      },
      "outputs": [],
      "source": [
        "alunos.info()"
      ]
    },
    {
      "cell_type": "markdown",
      "id": "624232b9-afdf-4a73-be18-cd33466e140c",
      "metadata": {
        "id": "624232b9-afdf-4a73-be18-cd33466e140c"
      },
      "source": [
        "# 3. Análise Univariada"
      ]
    },
    {
      "cell_type": "markdown",
      "id": "bac78977-062b-4b7b-96cd-5b62b95861cd",
      "metadata": {
        "id": "bac78977-062b-4b7b-96cd-5b62b95861cd"
      },
      "source": [
        "- Variáveis quantitativas discretas"
      ]
    },
    {
      "cell_type": "code",
      "execution_count": null,
      "id": "4ac6b607-9444-4572-a7cc-e4e156dd3264",
      "metadata": {
        "id": "4ac6b607-9444-4572-a7cc-e4e156dd3264"
      },
      "outputs": [],
      "source": [
        "_ = plt.hist(alunos.numero_modulos_completos)\n",
        "_ = plt.title(\"Histograma de Módulos Completos\")"
      ]
    },
    {
      "cell_type": "code",
      "execution_count": null,
      "id": "d06afa31-7bc5-48d0-ae38-a60ca972662c",
      "metadata": {
        "id": "d06afa31-7bc5-48d0-ae38-a60ca972662c"
      },
      "outputs": [],
      "source": [
        "frequencia = alunos.frequencia_acessos_semanal.value_counts()\n",
        "\n",
        "_ = plt.bar(frequencia.index, frequencia.values)\n",
        "_ = plt.title(\"Gráfico de Frequência de Acesso Semanal\")\n"
      ]
    },
    {
      "cell_type": "code",
      "execution_count": null,
      "id": "ce4aa702-aa67-411e-ab86-06afb3afb21c",
      "metadata": {
        "id": "ce4aa702-aa67-411e-ab86-06afb3afb21c"
      },
      "outputs": [],
      "source": [
        "media_freq = alunos.frequencia_acessos_semanal.mean()\n",
        "mediana_freq = alunos.frequencia_acessos_semanal.median()\n",
        "quartil1 = alunos.frequencia_acessos_semanal.quantile(0.25)\n",
        "quartil2 = alunos.frequencia_acessos_semanal.quantile(0.50)\n",
        "quartil3 = alunos.frequencia_acessos_semanal.quantile(0.75)\n",
        "\n",
        "contagem = alunos.frequencia_acessos_semanal.value_counts()\n",
        "soma = contagem.sum()\n",
        "print(contagem)\n",
        "\n",
        "\n",
        "print(f\" Média de Frequência de Acesso Semanal: {media_freq}\")\n",
        "print(f\" Mediana de Frequência de Acesso Semanal: {mediana_freq}\")\n",
        "print(f\" Quartil 25%:  {quartil1} (25% da base acessou até {quartil1} vezes na semana)\")\n",
        "print(f\" Quartil 50%:  {quartil2} (50% da base acessou até {quartil2} vezes na semana)\")\n",
        "print(f\" Quartil 75%:  {quartil2} (75% da base acessou até {quartil3} vezes na semana)\")"
      ]
    },
    {
      "cell_type": "markdown",
      "id": "65f2d245-80fd-4cb9-a434-25b9579c8727",
      "metadata": {
        "id": "65f2d245-80fd-4cb9-a434-25b9579c8727"
      },
      "source": [
        "- Variáveis Quantitativas Contínuas"
      ]
    },
    {
      "cell_type": "code",
      "execution_count": null,
      "id": "8f40ceed-bae2-4a87-b438-7faaafb92dae",
      "metadata": {
        "id": "8f40ceed-bae2-4a87-b438-7faaafb92dae"
      },
      "outputs": [],
      "source": [
        "_ = plt.hist(alunos.tempo_sessao_minutos)\n",
        "_ = plt.title(\"Histograma de Tempo de Sessão em minutos\")"
      ]
    },
    {
      "cell_type": "markdown",
      "id": "cf0e71ea-9e99-4ef7-8cd6-c7306056d5f0",
      "metadata": {
        "id": "cf0e71ea-9e99-4ef7-8cd6-c7306056d5f0"
      },
      "source": [
        "- Variáveis Qualitativas Nominais"
      ]
    },
    {
      "cell_type": "code",
      "execution_count": null,
      "id": "70be772f-9a9b-432e-9b68-4df2159484a5",
      "metadata": {
        "id": "70be772f-9a9b-432e-9b68-4df2159484a5"
      },
      "outputs": [],
      "source": [
        "df_contagem = (\n",
        "    alunos['dispositivo_acesso']\n",
        "    .value_counts()\n",
        "    .rename_axis('Dispositivo de Acesso')    # passa o nome ao índice\n",
        "                # transforma em DataFrame com coluna “Contagem”\n",
        "    .reset_index(name='Contagem')\n",
        ")\n",
        "print(df_contagem.to_string(index=False))"
      ]
    },
    {
      "cell_type": "code",
      "execution_count": null,
      "id": "00b6cf26-21e2-4eb7-b7cc-e02da62319ab",
      "metadata": {
        "id": "00b6cf26-21e2-4eb7-b7cc-e02da62319ab"
      },
      "outputs": [],
      "source": [
        "alunos.regiao_aluno.value_counts(1)"
      ]
    },
    {
      "cell_type": "code",
      "execution_count": null,
      "id": "a8322676-7e31-48cb-a60f-003e1178af7c",
      "metadata": {
        "id": "a8322676-7e31-48cb-a60f-003e1178af7c"
      },
      "outputs": [],
      "source": [
        "df_tipoplano = (\n",
        "    alunos['tipo_plano']\n",
        "    .value_counts()\n",
        "    .rename_axis('Tipo de Planos')\n",
        "    .reset_index(name='Contagem')\n",
        ")\n",
        "print(df_tipoplano.to_string(index=False))"
      ]
    },
    {
      "cell_type": "markdown",
      "id": "f79b2cad-d45a-4bf6-ba26-8b1439b42ef7",
      "metadata": {
        "id": "f79b2cad-d45a-4bf6-ba26-8b1439b42ef7"
      },
      "source": [
        "# 4. Análise Bivariada"
      ]
    },
    {
      "cell_type": "code",
      "execution_count": null,
      "id": "73520a91-5bf1-42b1-911d-8b1d8689dc83",
      "metadata": {
        "id": "73520a91-5bf1-42b1-911d-8b1d8689dc83"
      },
      "outputs": [],
      "source": [
        "_ = sns.boxplot(x='tipo_plano',y='dispositivo_acesso', data=alunos)\n"
      ]
    },
    {
      "cell_type": "markdown",
      "id": "2a5b6424-3fe3-4996-8e14-c6784cddaca8",
      "metadata": {
        "id": "2a5b6424-3fe3-4996-8e14-c6784cddaca8"
      },
      "source": [
        "https://www.youtube.com/watch?v=9n9bFWWBkLg"
      ]
    }
  ],
  "metadata": {
    "kernelspec": {
      "display_name": "Python 3 (ipykernel)",
      "language": "python",
      "name": "python3"
    },
    "language_info": {
      "codemirror_mode": {
        "name": "ipython",
        "version": 3
      },
      "file_extension": ".py",
      "mimetype": "text/x-python",
      "name": "python",
      "nbconvert_exporter": "python",
      "pygments_lexer": "ipython3",
      "version": "3.12.7"
    },
    "colab": {
      "provenance": [],
      "include_colab_link": true
    }
  },
  "nbformat": 4,
  "nbformat_minor": 5
}